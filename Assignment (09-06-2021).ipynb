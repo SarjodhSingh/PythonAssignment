{
 "cells": [
  {
   "cell_type": "markdown",
   "id": "fb8bd38b",
   "metadata": {},
   "source": [
    "## Python Assignment 09/06/2021"
   ]
  },
  {
   "cell_type": "markdown",
   "id": "c063dbd5-99f7-4870-ab77-3e31d15c92c8",
   "metadata": {},
   "source": [
    "**Name:** Sarjodh Singh<br>\n",
    "**Course:** B.Tech CSE Cyber Security<br>\n",
    "**Reg No.:** UG1833011013<br>\n",
    "**Submitted To:** Dr. Kamal Malik\n"
   ]
  },
  {
   "cell_type": "markdown",
   "id": "aa7d2b1a-2e57-4cf0-b9dc-98b52aae47fc",
   "metadata": {},
   "source": [
    "**<hr>**"
   ]
  },
  {
   "cell_type": "markdown",
   "id": "ea4f33ee",
   "metadata": {},
   "source": [
    "**Q1 L is a list defined as `L= [11, 12, 13, 14]`.<br>**\n",
    ">1. WAP to add 50 and 60 to L.<br>\n",
    "2.  WAP to remove 11 and 13 from L.<br>\n",
    "3.  WAP to sort L in ascending order.<br>\n",
    "4.  WAP to sort L in descending order.<br>\n",
    "5.  WAP to search for 13 in L.<br>\n",
    "6.  WAP to count the number of elements present in L.<br>\n",
    "7.  WAP to sum all the elements in L.<br>\n",
    "8.  WAP to sum all ODD numbers in L.<br>\n",
    "9.  WAP to sum all EVEN numbers in L.<br>\n",
    "10. WAP to sum all PRIME numbers in L.<br>\n",
    "11. WAP to clear all the elements in L.\n",
    "12. WAP to delete L."
   ]
  },
  {
   "cell_type": "code",
   "execution_count": 1,
   "id": "89859182",
   "metadata": {},
   "outputs": [],
   "source": [
    "L = [11, 12, 13, 14]"
   ]
  },
  {
   "cell_type": "code",
   "execution_count": 2,
   "id": "fc6d9be6",
   "metadata": {},
   "outputs": [
    {
     "name": "stdout",
     "output_type": "stream",
     "text": [
      "[11, 12, 13, 14, 50, 60]\n"
     ]
    }
   ],
   "source": [
    "# WAP to add 50 and 60 to L.\n",
    "L.extend([50, 60])\n",
    "print(L)"
   ]
  },
  {
   "cell_type": "code",
   "execution_count": 3,
   "id": "26dd7ba4",
   "metadata": {},
   "outputs": [
    {
     "name": "stdout",
     "output_type": "stream",
     "text": [
      "[12, 14, 50, 60]\n"
     ]
    }
   ],
   "source": [
    "# WAP to remove 11 and 13 from L.\n",
    "L.remove(11)\n",
    "L.remove(13)\n",
    "print(L)"
   ]
  },
  {
   "cell_type": "code",
   "execution_count": 4,
   "id": "1a43e727",
   "metadata": {},
   "outputs": [
    {
     "name": "stdout",
     "output_type": "stream",
     "text": [
      "[12, 14, 50, 60]\n"
     ]
    }
   ],
   "source": [
    "# WAP to sort L in ascending order.\n",
    "L.sort()\n",
    "print(L)"
   ]
  },
  {
   "cell_type": "code",
   "execution_count": 5,
   "id": "0456b0b6",
   "metadata": {},
   "outputs": [
    {
     "name": "stdout",
     "output_type": "stream",
     "text": [
      "[60, 50, 14, 12]\n"
     ]
    }
   ],
   "source": [
    "# WAP to sort L in descending order.\n",
    "L.sort()\n",
    "L.reverse()\n",
    "print(L)"
   ]
  },
  {
   "cell_type": "code",
   "execution_count": 6,
   "id": "241c1cf4",
   "metadata": {},
   "outputs": [
    {
     "name": "stdout",
     "output_type": "stream",
     "text": [
      "2\n"
     ]
    }
   ],
   "source": [
    "# WAP to search for 13 in L.\n",
    "L = [11, 12, 13, 14]\n",
    "print(L.index(13))"
   ]
  },
  {
   "cell_type": "code",
   "execution_count": 7,
   "id": "9ffe3f2b",
   "metadata": {},
   "outputs": [
    {
     "name": "stdout",
     "output_type": "stream",
     "text": [
      "4\n"
     ]
    }
   ],
   "source": [
    "# WAP to count the number of elements present in L.\n",
    "print(len(L))"
   ]
  },
  {
   "cell_type": "code",
   "execution_count": 8,
   "id": "9db8af6e",
   "metadata": {},
   "outputs": [
    {
     "name": "stdout",
     "output_type": "stream",
     "text": [
      "50\n"
     ]
    }
   ],
   "source": [
    "# WAP to sum all the elements in L.\n",
    "print(sum(L))"
   ]
  },
  {
   "cell_type": "code",
   "execution_count": 9,
   "id": "1447a17a",
   "metadata": {},
   "outputs": [
    {
     "name": "stdout",
     "output_type": "stream",
     "text": [
      "[11, 13]\n",
      "24\n"
     ]
    }
   ],
   "source": [
    "# WAP to sum all ODD numbers in L.\n",
    "odd = [x for x in L if x%2!=0]\n",
    "print(odd)\n",
    "print(sum(odd))"
   ]
  },
  {
   "cell_type": "code",
   "execution_count": 10,
   "id": "65353ee4",
   "metadata": {},
   "outputs": [
    {
     "name": "stdout",
     "output_type": "stream",
     "text": [
      "[12, 14]\n",
      "26\n"
     ]
    }
   ],
   "source": [
    "# WAP to sum all EVEN numbers in L.\n",
    "even = [x for x in L if x%2==0]\n",
    "print(even)\n",
    "print(sum(even))"
   ]
  },
  {
   "cell_type": "code",
   "execution_count": 11,
   "id": "31190b92",
   "metadata": {},
   "outputs": [
    {
     "name": "stdout",
     "output_type": "stream",
     "text": [
      "[11, 13]\n",
      "24\n"
     ]
    }
   ],
   "source": [
    "# WAP to sum all PRIME numbers in L\n",
    "prime=[]\n",
    "for x in L:\n",
    "    for i in range(2,x):\n",
    "        if x%i==0:\n",
    "            break\n",
    "    else:\n",
    "        prime.append(x)\n",
    "print(prime)\n",
    "print(sum(prime))"
   ]
  },
  {
   "cell_type": "code",
   "execution_count": 12,
   "id": "2bb833ef",
   "metadata": {},
   "outputs": [
    {
     "name": "stdout",
     "output_type": "stream",
     "text": [
      "[]\n"
     ]
    }
   ],
   "source": [
    "# WAP to clear all the elements in L.\n",
    "L.clear()\n",
    "print(L)"
   ]
  },
  {
   "cell_type": "code",
   "execution_count": 13,
   "id": "9aa80847",
   "metadata": {},
   "outputs": [
    {
     "ename": "NameError",
     "evalue": "name 'L' is not defined",
     "output_type": "error",
     "traceback": [
      "\u001b[1;31m---------------------------------------------------------------------------\u001b[0m",
      "\u001b[1;31mNameError\u001b[0m                                 Traceback (most recent call last)",
      "\u001b[1;32m<ipython-input-13-a090824c5da0>\u001b[0m in \u001b[0;36m<module>\u001b[1;34m\u001b[0m\n\u001b[0;32m      1\u001b[0m \u001b[1;32mdel\u001b[0m \u001b[0mL\u001b[0m\u001b[1;33m\u001b[0m\u001b[1;33m\u001b[0m\u001b[0m\n\u001b[1;32m----> 2\u001b[1;33m \u001b[0mprint\u001b[0m\u001b[1;33m(\u001b[0m\u001b[0mL\u001b[0m\u001b[1;33m)\u001b[0m\u001b[1;33m\u001b[0m\u001b[1;33m\u001b[0m\u001b[0m\n\u001b[0m",
      "\u001b[1;31mNameError\u001b[0m: name 'L' is not defined"
     ]
    }
   ],
   "source": [
    "del L\n",
    "print(L)"
   ]
  },
  {
   "cell_type": "markdown",
   "id": "63453081-4fd5-4814-b70b-1beb0c99b62b",
   "metadata": {},
   "source": [
    "**<hr>**"
   ]
  },
  {
   "cell_type": "markdown",
   "id": "b774646e-2e45-4670-83e6-33d2a9746a05",
   "metadata": {},
   "source": [
    "**Q2. D is a dictionary defined as `D = {1:5.6, 2:7.8, 3:6.6, 4:8.7, 5:7.7}`**.\n",
    ">1. WAP to add new entry in D; key=8 and value is 8.8\n",
    "2. WAP to remove key=2.\n",
    "3. WAP to check weather 6 key is present in D.\n",
    "4. WAP to count the number of elements present in D.\n",
    "5. WAP to add all the values present D.\n",
    "6. WAP to update the value of 3 to 7.1.\n",
    "7. WAP to clear the dictionary."
   ]
  },
  {
   "cell_type": "code",
   "execution_count": 41,
   "id": "0920abaa-6b5c-45a3-a122-edbabc1d2904",
   "metadata": {},
   "outputs": [],
   "source": [
    "D = {1:5.6, 2:7.8, 3:6.6, 4:8.7, 5:7.7}"
   ]
  },
  {
   "cell_type": "code",
   "execution_count": 42,
   "id": "96de0407-546c-4f7c-9e6c-c68c38666d9d",
   "metadata": {},
   "outputs": [
    {
     "name": "stdout",
     "output_type": "stream",
     "text": [
      "{1: 5.6, 2: 7.8, 3: 6.6, 4: 8.7, 5: 7.7, 8: 8.8}\n"
     ]
    }
   ],
   "source": [
    "# WAP to add new entry in D; key=8 and value is 8.8\n",
    "D[8]=8.8\n",
    "print(D)"
   ]
  },
  {
   "cell_type": "code",
   "execution_count": 43,
   "id": "4004fdc8-7c48-44b7-8407-d274024d6751",
   "metadata": {},
   "outputs": [
    {
     "name": "stdout",
     "output_type": "stream",
     "text": [
      "{1: 5.6, 3: 6.6, 4: 8.7, 5: 7.7, 8: 8.8}\n"
     ]
    }
   ],
   "source": [
    "# WAP to remove key=2.\n",
    "D.pop(2)\n",
    "print(D)"
   ]
  },
  {
   "cell_type": "code",
   "execution_count": 44,
   "id": "4d93165c-b680-47e2-a08b-937b1d6a5f5d",
   "metadata": {},
   "outputs": [
    {
     "name": "stdout",
     "output_type": "stream",
     "text": [
      "Not Present\n"
     ]
    }
   ],
   "source": [
    "# WAP to check weather 6 key is present in D.\n",
    "if 6 in D.keys():\n",
    "    print(\"Present\")\n",
    "else:\n",
    "    print(\"Not Present\")"
   ]
  },
  {
   "cell_type": "code",
   "execution_count": 45,
   "id": "695f88e7-a85c-47ac-86d5-281a5d9ad458",
   "metadata": {},
   "outputs": [
    {
     "name": "stdout",
     "output_type": "stream",
     "text": [
      "5\n"
     ]
    }
   ],
   "source": [
    "# WAP to count the number of elements present in D.\n",
    "print(len(D.items()))"
   ]
  },
  {
   "cell_type": "code",
   "execution_count": 46,
   "id": "5473740f-3dfc-4578-ac4a-966a23143ce8",
   "metadata": {},
   "outputs": [
    {
     "name": "stdout",
     "output_type": "stream",
     "text": [
      "37.4\n"
     ]
    }
   ],
   "source": [
    "# WAP to add all the values present D.\n",
    "print(sum(D.values()))"
   ]
  },
  {
   "cell_type": "code",
   "execution_count": 47,
   "id": "f037c6ec-8101-49c4-8dcd-7aa1b42c8eb8",
   "metadata": {},
   "outputs": [
    {
     "name": "stdout",
     "output_type": "stream",
     "text": [
      "{1: 5.6, 3: 7.1, 4: 8.7, 5: 7.7, 8: 8.8}\n"
     ]
    }
   ],
   "source": [
    "# WAP to update the value of 3 to 7.1.\n",
    "D[3]=7.1\n",
    "print(D)"
   ]
  },
  {
   "cell_type": "code",
   "execution_count": 48,
   "id": "7045147e-d9a6-4794-ab42-590422238362",
   "metadata": {},
   "outputs": [
    {
     "name": "stdout",
     "output_type": "stream",
     "text": [
      "{}\n"
     ]
    }
   ],
   "source": [
    "# WAP to clear the dictionary.\n",
    "D.clear()\n",
    "print(D)"
   ]
  },
  {
   "cell_type": "markdown",
   "id": "a72c38d6-c8c9-4290-b45d-fb77eb4c1885",
   "metadata": {},
   "source": [
    "**<hr>**\n"
   ]
  },
  {
   "cell_type": "markdown",
   "id": "34ae3d31-050d-4162-8b29-e5174b9f4110",
   "metadata": {},
   "source": [
    "**Q3. S1 is a set defined as `S1= {10, 20, 30, 40, 50, 60}`.<br>\n",
    "&emsp;&ensp;&nbsp;S2 is a set defined as `S2= {40, 50, 60, 70, 80, 90}`.**\n",
    ">1. WAP to add 55 and 66 in Set S1.\n",
    "2. WAP to remove 10 and 30 from Set S1.\n",
    "3. WAP to check whether 40 is present in S1.\n",
    "4. WAP to find the union between S1 and S2.\n",
    "5. WAP to find the intersection between S1 and S2.\n",
    "6. WAP to find the S1 - S2."
   ]
  },
  {
   "cell_type": "code",
   "execution_count": 49,
   "id": "0ed4499d-93b4-44f9-b9a1-a51666b3d305",
   "metadata": {},
   "outputs": [],
   "source": [
    "S1= {10, 20, 30, 40, 50, 60}\n",
    "S2= {40, 50, 60, 70, 80, 90}"
   ]
  },
  {
   "cell_type": "code",
   "execution_count": 50,
   "id": "c0d0681e-04b3-4709-ab44-361e4e308cac",
   "metadata": {},
   "outputs": [
    {
     "name": "stdout",
     "output_type": "stream",
     "text": [
      "{50, 66, 20, 55, 40, 10, 60, 30}\n"
     ]
    }
   ],
   "source": [
    "# WAP to add 55 and 66 in Set S1.\n",
    "S1.add(55)\n",
    "S1.add(66)\n",
    "print(S1)\n"
   ]
  },
  {
   "cell_type": "code",
   "execution_count": 51,
   "id": "dc357b94-89e4-4412-b567-19520e8eb4a1",
   "metadata": {},
   "outputs": [
    {
     "name": "stdout",
     "output_type": "stream",
     "text": [
      "{50, 66, 20, 55, 40, 60}\n"
     ]
    }
   ],
   "source": [
    "# WAP to remove 10 and 30 from Set S1.\n",
    "S1.remove(10)\n",
    "S1.remove(30)\n",
    "print(S1)"
   ]
  },
  {
   "cell_type": "code",
   "execution_count": 52,
   "id": "123a9ccd-4b46-45e5-a776-950ecce0be1a",
   "metadata": {},
   "outputs": [
    {
     "name": "stdout",
     "output_type": "stream",
     "text": [
      "present\n"
     ]
    }
   ],
   "source": [
    "# WAP to check whether 40 is present in S1.\n",
    "if 40 in S1:\n",
    "    print(\"present\")\n",
    "else:\n",
    "    print(\"mot present\")\n",
    "    "
   ]
  },
  {
   "cell_type": "code",
   "execution_count": 53,
   "id": "aec44d76-0eca-49fc-aa41-e4f7f3591657",
   "metadata": {},
   "outputs": [
    {
     "name": "stdout",
     "output_type": "stream",
     "text": [
      "{66, 70, 40, 80, 50, 20, 55, 90, 60}\n"
     ]
    }
   ],
   "source": [
    "# WAP to find the union between S1 and S2.\n",
    "print(S1.union(S2))"
   ]
  },
  {
   "cell_type": "code",
   "execution_count": 54,
   "id": "2d293e83-0184-4b11-9ed3-3186be5a4fd6",
   "metadata": {},
   "outputs": [
    {
     "name": "stdout",
     "output_type": "stream",
     "text": [
      "{40, 50, 60}\n"
     ]
    }
   ],
   "source": [
    "# WAP to find the intersection between S1 and S2\n",
    "print(S1.intersection(S2))"
   ]
  },
  {
   "cell_type": "code",
   "execution_count": 55,
   "id": "73a1c310-ffbf-4929-89b9-d434aa9a7c29",
   "metadata": {},
   "outputs": [
    {
     "name": "stdout",
     "output_type": "stream",
     "text": [
      "{66, 20, 55}\n"
     ]
    }
   ],
   "source": [
    "#  WAP to find the S1 - S2.\n",
    "print(S1.difference(S2))"
   ]
  },
  {
   "cell_type": "markdown",
   "id": "93c76c97-76bc-47ce-983f-6f5b8c089e03",
   "metadata": {},
   "source": [
    " **<hr>** "
   ]
  },
  {
   "cell_type": "markdown",
   "id": "4cd8272f-1685-4c99-8b31-45041bcd0908",
   "metadata": {},
   "source": [
    "**Q4. Write the following program.**\n",
    ">1. WAP to print 100 random strings whose length between 6 and 8.\n",
    "2. WAP to print all prime numbers between 600 and 800.\n",
    "3. WAP to print all numbers between 100 and 1000 that are divisible by 7 and 9."
   ]
  },
  {
   "cell_type": "code",
   "execution_count": 16,
   "id": "199a3576-f1ea-497d-a54b-1d91a8df2f9a",
   "metadata": {},
   "outputs": [
    {
     "name": "stdout",
     "output_type": "stream",
     "text": [
      "1 yWjMMjqF\n",
      "2 tTTSGHk\n",
      "3 AiJCGllv\n",
      "4 dXZbMM\n",
      "5 PxflWfo\n",
      "6 BCJqOk\n",
      "7 KLIhHWJD\n",
      "8 JKLnHe\n",
      "9 srivuQ\n",
      "10 wAjMSdV\n",
      "11 LIDKMuO\n",
      "12 otZkXcLu\n",
      "13 LsCPuvj\n",
      "14 GLKduRK\n",
      "15 skDzMOYj\n",
      "16 fYRSqBPR\n",
      "17 JdkmPCZH\n",
      "18 ieNcGCj\n",
      "19 XCmeIqY\n",
      "20 olOPAa\n",
      "21 RJIyxpY\n",
      "22 htPMoxH\n",
      "23 lAZhCFlA\n",
      "24 HoBchjI\n",
      "25 kyVadF\n",
      "26 MNXYbjp\n",
      "27 vmXaVHj\n",
      "28 PWspOGp\n",
      "29 YdBHdh\n",
      "30 EHznjfD\n",
      "31 ptJKoTZK\n",
      "32 clRmwcke\n",
      "33 ysnRFRg\n",
      "34 HxwiXIc\n",
      "35 DIyteJi\n",
      "36 XJJRKCI\n",
      "37 YCZjFZWE\n",
      "38 GhjSoN\n",
      "39 sIaUvCV\n",
      "40 nJIwnP\n",
      "41 erDHmHB\n",
      "42 RsarGWqE\n",
      "43 DVGlDk\n",
      "44 btsMSAh\n",
      "45 Zwalmw\n",
      "46 yikKMN\n",
      "47 jmqjyAX\n",
      "48 covUBKKr\n",
      "49 HvcAdi\n",
      "50 tpdxiz\n",
      "51 FDJodgZ\n",
      "52 BFbyLU\n",
      "53 BrTBrFi\n",
      "54 TjeNNt\n",
      "55 tXAQYE\n",
      "56 AdCJxtKw\n",
      "57 hSVbOk\n",
      "58 UaRqJuI\n",
      "59 jBHIxv\n",
      "60 EXIpUfQ\n",
      "61 uaXQUh\n",
      "62 VruixhW\n",
      "63 JLRjejY\n",
      "64 HaJrTtwO\n",
      "65 PGpCooKZ\n",
      "66 uAlizua\n",
      "67 iVWmvx\n",
      "68 hWmfdnIV\n",
      "69 QEkLOmL\n",
      "70 UwwWADgt\n",
      "71 yyzMXW\n",
      "72 ixzxAng\n",
      "73 iMeBQR\n",
      "74 tQNZjUwV\n",
      "75 BlOkHPIK\n",
      "76 GfJiZeF\n",
      "77 fEyaKKUA\n",
      "78 WEJksG\n",
      "79 ZLHtMhTl\n",
      "80 HkaoUCTa\n",
      "81 FdPyqB\n",
      "82 lKvYZPA\n",
      "83 fapOafk\n",
      "84 zxMbwHGT\n",
      "85 DLGlGCS\n",
      "86 jKRZFk\n",
      "87 ExmnCUW\n",
      "88 bhtsPdxv\n",
      "89 URmwBQZ\n",
      "90 hjugmfN\n",
      "91 oCjjEP\n",
      "92 VwVnBm\n",
      "93 nsrYkt\n",
      "94 gNelHpo\n",
      "95 feTdBmGv\n",
      "96 jLpHjPu\n",
      "97 FjAJrBft\n",
      "98 sxTcHSy\n",
      "99 VAmzVmh\n",
      "100 bTagSP\n"
     ]
    }
   ],
   "source": [
    "# WAP to print 100 random strings whose length between 6 and 8.\n",
    "import string\n",
    "import random\n",
    "\n",
    "num=1\n",
    "for x in range(0,100):\n",
    "    length = random.randint(6,8)\n",
    "    ran = \"\".join(random.choices(string.ascii_letters, k=length))\n",
    "    print(num,ran)\n",
    "    num+=1"
   ]
  },
  {
   "cell_type": "code",
   "execution_count": 17,
   "id": "1c718423-df54-481a-bb22-88cc25600b39",
   "metadata": {},
   "outputs": [
    {
     "name": "stdout",
     "output_type": "stream",
     "text": [
      "601 607 613 617 619 631 641 643 647 653 659 661 673 677 683 691 701 709 719 727 733 739 743 751 757 761 769 773 787 797 "
     ]
    }
   ],
   "source": [
    "# WAP to print all prime numbers between 600 and 800.\n",
    "flag=0\n",
    "for num in range(600,801):\n",
    "    flag=0\n",
    "    for i in range(2,(num//2 + 1)):\n",
    "        if(num % i == 0):\n",
    "            flag+=1\n",
    "            break\n",
    "    if (flag==0 and num != 1):\n",
    "        print(num,end=' ')\n",
    "    "
   ]
  },
  {
   "cell_type": "code",
   "execution_count": 18,
   "id": "94797c5c-0c99-470e-a8a3-f878d52d72ef",
   "metadata": {},
   "outputs": [
    {
     "name": "stdout",
     "output_type": "stream",
     "text": [
      "126 189 252 315 378 441 504 567 630 693 756 819 882 945 "
     ]
    }
   ],
   "source": [
    "# WAP to print all numbers between 100 and 1000 that are divisible by 7 and 9.\n",
    "for num in range(100,1000):\n",
    "    if (num%7==0) and (num%9==0):\n",
    "        print(num, end=' ')"
   ]
  },
  {
   "cell_type": "markdown",
   "id": "6d76deca-064d-4e95-8b24-08acc512f83e",
   "metadata": {},
   "source": [
    "**<hr>**"
   ]
  },
  {
   "cell_type": "markdown",
   "id": "ac5a2812-f724-4c29-9d2a-c627fdf6d2c6",
   "metadata": {},
   "source": [
    "**Q5. WAP to create two lists of 10 random numbers between 10 and 30; Find**\n",
    "1. Common numbers in the two lists\n",
    "2. Unique numbers in both the list\n",
    "3. Minimum in both the list\n",
    "4. Maximum in both the list\n",
    "5. Sum of both the list"
   ]
  },
  {
   "cell_type": "code",
   "execution_count": 19,
   "id": "b77f6a2c-b79a-4315-b61b-0460ce24eef5",
   "metadata": {},
   "outputs": [
    {
     "name": "stdout",
     "output_type": "stream",
     "text": [
      "[27, 19, 16, 24, 19, 27, 28, 13, 24, 26]\n",
      "[18, 13, 12, 22, 18, 26, 22, 19, 27, 29]\n"
     ]
    }
   ],
   "source": [
    "import random\n",
    "\n",
    "lst1=[]\n",
    "lst2=[]\n",
    "for i in range(0,10):\n",
    "    n1 = random.randint(10,30)\n",
    "    n2 = random.randint(10,30)\n",
    "    lst1.append(n1)\n",
    "    lst2.append(n2)\n",
    "\n",
    "print(lst1)\n",
    "print(lst2)\n",
    "    "
   ]
  },
  {
   "cell_type": "code",
   "execution_count": 20,
   "id": "dd8f9991-bbac-4dde-9456-8e0037794df8",
   "metadata": {},
   "outputs": [
    {
     "name": "stdout",
     "output_type": "stream",
     "text": [
      "{27, 26, 19, 13}\n"
     ]
    }
   ],
   "source": [
    "# Common numbers in the two lists\n",
    "print(set(lst1) & set(lst2))"
   ]
  },
  {
   "cell_type": "code",
   "execution_count": 21,
   "id": "638c4aab-3fbd-4de2-8013-88179b172f3d",
   "metadata": {},
   "outputs": [
    {
     "name": "stdout",
     "output_type": "stream",
     "text": [
      "Unique Elements in List 1: {16, 24, 28}\n",
      "Unique Elements in List 2: {18, 12, 29, 22}\n"
     ]
    }
   ],
   "source": [
    "# Unique numbers in both the list\n",
    "print(\"Unique Elements in List 1:\",set(lst1) - set(lst2))\n",
    "print(\"Unique Elements in List 2:\",set(lst2) - set(lst1))"
   ]
  },
  {
   "cell_type": "code",
   "execution_count": 22,
   "id": "4b9d6193-fd6a-4af6-bf5d-1d78cdee09a2",
   "metadata": {},
   "outputs": [
    {
     "name": "stdout",
     "output_type": "stream",
     "text": [
      "Miminum in lst1: 13\n",
      "Miminum in lst2: 12\n"
     ]
    }
   ],
   "source": [
    "# Minimum in both the list\n",
    "print(\"Miminum in lst1:\",min(lst1))\n",
    "print(\"Miminum in lst2:\",min(lst2))"
   ]
  },
  {
   "cell_type": "code",
   "execution_count": 23,
   "id": "564a9f92-9567-492d-b551-086bcd04e1e7",
   "metadata": {},
   "outputs": [
    {
     "name": "stdout",
     "output_type": "stream",
     "text": [
      "Maximum in lst1: 28\n",
      "Maximum in lst2: 29\n"
     ]
    }
   ],
   "source": [
    "# Maximum in both the list\n",
    "print(\"Maximum in lst1:\",max(lst1))\n",
    "print(\"Maximum in lst2:\",max(lst2))"
   ]
  },
  {
   "cell_type": "code",
   "execution_count": 24,
   "id": "93ea92e0-f48e-4130-a2cd-25ed56767916",
   "metadata": {},
   "outputs": [
    {
     "name": "stdout",
     "output_type": "stream",
     "text": [
      "Sum of elements in lst1: 223\n",
      "Sum of elements in lst2: 206\n"
     ]
    }
   ],
   "source": [
    "# Sum of both the list\n",
    "print(\"Sum of elements in lst1:\", sum(lst1))\n",
    "print(\"Sum of elements in lst2:\", sum(lst2))"
   ]
  },
  {
   "cell_type": "markdown",
   "id": "b056227c-7eb3-4bcc-b0a1-cbeb4cfb1986",
   "metadata": {},
   "source": [
    "**<hr>**"
   ]
  },
  {
   "cell_type": "markdown",
   "id": "5b6ac346-23d6-4286-851f-92d43e1b98dd",
   "metadata": {},
   "source": [
    "**Q6. WAP to create a list of 100 random numbers between 100 and 900. Count and print the:**\n",
    "1. All odd numbers\n",
    "2. All even numbers\n",
    "3. All prime numbers"
   ]
  },
  {
   "cell_type": "code",
   "execution_count": 25,
   "id": "5db82e52-88b7-436b-a4c9-e098106db0da",
   "metadata": {},
   "outputs": [
    {
     "data": {
      "text/plain": [
       "100"
      ]
     },
     "execution_count": 25,
     "metadata": {},
     "output_type": "execute_result"
    }
   ],
   "source": [
    "import random\n",
    "\n",
    "lst=[]\n",
    "for x in range(0,100):\n",
    "    n=random.randint(100,900)\n",
    "    lst.append(n)\n",
    "\n",
    "len(lst)\n",
    "    "
   ]
  },
  {
   "cell_type": "code",
   "execution_count": 26,
   "id": "fb4dea7f-1e1e-4da1-90d6-8593ef91b287",
   "metadata": {},
   "outputs": [
    {
     "name": "stdout",
     "output_type": "stream",
     "text": [
      "689 121 135 551 785 113 433 261 881 885 615 125 135 695 361 771 215 157 291 855 695 583 659 207 771 113 743 623 577 739 157 143 863 111 433 819 171 189 607 227 133 487 213 629 689 419 797 545 857 781 693 705 \n",
      "Number of even numbers in list are: 52\n"
     ]
    }
   ],
   "source": [
    "# All odd numbers\n",
    "count=0\n",
    "for x in lst:\n",
    "    if x%2!=0:\n",
    "        count+=1\n",
    "        print(x,end=' ')\n",
    "print(\"\\nNumber of even numbers in list are:\",count)"
   ]
  },
  {
   "cell_type": "code",
   "execution_count": 27,
   "id": "4b26d565-b8a6-4db1-95a2-844d85254851",
   "metadata": {},
   "outputs": [
    {
     "name": "stdout",
     "output_type": "stream",
     "text": [
      "884 558 678 340 824 588 232 798 588 632 528 786 124 518 378 438 312 860 204 174 296 212 400 768 152 672 702 636 498 556 668 452 678 392 216 320 896 646 142 810 550 832 576 212 236 720 664 352 \n",
      "Number of even numbers in list are: 48\n"
     ]
    }
   ],
   "source": [
    "# All even numbers\n",
    "count=0\n",
    "for x in lst:\n",
    "    if x%2==0:\n",
    "        count+=1\n",
    "        print(x,end=' ')\n",
    "print(\"\\nNumber of even numbers in list are:\",count)"
   ]
  },
  {
   "cell_type": "code",
   "execution_count": 28,
   "id": "9e80ffab-4fde-4e06-aaf0-c8ea46f96ccf",
   "metadata": {},
   "outputs": [
    {
     "name": "stdout",
     "output_type": "stream",
     "text": [
      "113 433 881 157 659 113 743 577 739 157 863 433 607 227 487 419 797 857 \n",
      "Number of prime numbers in list are: 18\n"
     ]
    }
   ],
   "source": [
    "# All prime numbers\n",
    "count=0\n",
    "flag=0\n",
    "\n",
    "for x in lst:\n",
    "    flag=0\n",
    "    for i in range(2, (x//2)+1):\n",
    "        if x%i==0:\n",
    "            flag+=1\n",
    "            break\n",
    "    if (flag==0) and (x!=1):\n",
    "        count+=1\n",
    "        print(x,end=' ')\n",
    "\n",
    "print(\"\\nNumber of prime numbers in list are:\",count)"
   ]
  },
  {
   "cell_type": "markdown",
   "id": "308bc412-c87f-4b51-95e2-feeab0223022",
   "metadata": {},
   "source": [
    "**<hr>**"
   ]
  },
  {
   "cell_type": "markdown",
   "id": "f8d1d569-1a94-4290-b27c-e1aa6476894f",
   "metadata": {},
   "source": [
    "**Q7. D is a dictionary defined as D={1:&quot;One&quot;,2:&quot;Two&quot;,3:&quot;Three&quot;,4:&quot;Four&quot;, 5:&quot;Five&quot;}.**<br>\n",
    "WAP to read all the keys and values from dictionary and write to the file in the given below format.<br>\n",
    ">Key1, Value1<br>\n",
    "Key2, Value2<br>\n",
    "Key3, Value3"
   ]
  },
  {
   "cell_type": "code",
   "execution_count": 29,
   "id": "2351083e-51c3-45a2-9482-f532d5d1aca7",
   "metadata": {},
   "outputs": [
    {
     "name": "stdout",
     "output_type": "stream",
     "text": [
      "1, One\n",
      "2, Two\n",
      "3, Three\n",
      "4, Four\n",
      "5, Five\n",
      "\n"
     ]
    }
   ],
   "source": [
    "D={1:\"One\",2:\"Two\",3:\"Three\",4:\"Four\", 5:\"Five\"}\n",
    "rslt=\"\"\n",
    "for x,y in D.items():\n",
    "    rslt += str(x) + \", \" + y + \"\\n\"\n",
    "\n",
    "f = open(\"DictFile.txt\",\"w\")\n",
    "f.write(rslt)\n",
    "f.close()\n",
    "\n",
    "f = open(\"DictFile.txt\")\n",
    "print(f.read())\n",
    "f.close()\n",
    "\n"
   ]
  },
  {
   "cell_type": "markdown",
   "id": "d2594f4d-6c7d-4e7b-b147-be782e211c6a",
   "metadata": {},
   "source": [
    "**<hr>**"
   ]
  },
  {
   "cell_type": "markdown",
   "id": "80498ba3-7d38-4803-808a-04d1708dcc56",
   "metadata": {},
   "source": [
    "**Q8. L is a list defined as L=[One\",\"Two\",\"Three\",\"Four\",\"Five\"].<br>\n",
    "&emsp;&ensp;&nbsp;WAP to count the length of reach element from a list and write to the file in the given below format:**\n",
    ">One, 3<br>\n",
    "Two, 3<br>\n",
    "Four, 4"
   ]
  },
  {
   "cell_type": "code",
   "execution_count": 30,
   "id": "aa5d1ec4-4fb6-43c4-b20a-9091a963306d",
   "metadata": {},
   "outputs": [
    {
     "name": "stdout",
     "output_type": "stream",
     "text": [
      "One, 3\n",
      "Two, 3\n",
      "Three, 5\n",
      "Four, 4\n",
      "Five, 4\n"
     ]
    }
   ],
   "source": [
    "L = [\"One\",\"Two\",\"Three\",\"Four\",\"Five\"]\n",
    "for x in L:\n",
    "    print(x+\",\",len(x))"
   ]
  },
  {
   "cell_type": "markdown",
   "id": "7a1682b1-5e61-48dd-bc2d-172b1ca15f2a",
   "metadata": {},
   "source": [
    "**<hr>**"
   ]
  },
  {
   "cell_type": "markdown",
   "id": "fe760d0c-eb3a-4bd6-bf87-b929a60d8bdd",
   "metadata": {},
   "source": [
    "**Q9. Write to the file 100 random strings whose length between 10 and 15.**\n"
   ]
  },
  {
   "cell_type": "code",
   "execution_count": 31,
   "id": "2defbc85-c272-44af-b3e2-3af92005e072",
   "metadata": {},
   "outputs": [
    {
     "name": "stdout",
     "output_type": "stream",
     "text": [
      "1 DZpGwVscIW\n",
      "2 OutULHpJdhtJeNQ\n",
      "3 APYcEDtgAkYyWB\n",
      "4 oGJlSbZIPOvjT\n",
      "5 qtnJLIEYukOmfZJ\n",
      "6 DWaMuIOkUxxNBp\n",
      "7 uOJpkiKYQpwyDL\n",
      "8 ncIIuFjsvsTW\n",
      "9 cxrvoCWEjr\n",
      "10 WHmHtmAWGgWJS\n",
      "11 ztDaEeJtALwc\n",
      "12 ACrhUQRGDlQK\n",
      "13 HFpwkiTVBpj\n",
      "14 GrLnOmNXxWSjtC\n",
      "15 tDIOcUQKTKkucv\n",
      "16 PtoCntFSOimkhn\n",
      "17 WDEXLniprZXZb\n",
      "18 maOizaxyCoNEgNn\n",
      "19 wtphUMAUGHSg\n",
      "20 djYzGQKepB\n",
      "21 JjNBpbmujGKTDrL\n",
      "22 XKZpcDpVrrqZd\n",
      "23 yPFgWxxARcdAueI\n",
      "24 oTGdyiuHtDhQp\n",
      "25 ptqyHNRYLwy\n",
      "26 azdHpOkrFBNz\n",
      "27 QyulaPzhwsJlZf\n",
      "28 kDbJQItDjB\n",
      "29 CeWjgZoIyEqRgvv\n",
      "30 zLpeUIjKXap\n",
      "31 CrWlAReeMrVn\n",
      "32 buyQgRLgVfTGn\n",
      "33 gDyihIfzGIdIIpC\n",
      "34 mcAVVYGAgGx\n",
      "35 ENJVkWeAVXMQUbj\n",
      "36 ghJxzfPoFBCGr\n",
      "37 KpwbtwVAjKI\n",
      "38 nWbTgLOiYfUq\n",
      "39 iXdRuWswEEOVHx\n",
      "40 FIKmSlDlQSQNGBO\n",
      "41 ftXidzoekoiYEF\n",
      "42 yXhUrqiTwfSQraS\n",
      "43 cRWhDkEFCJCngii\n",
      "44 yvcIhgvMsbSvKl\n",
      "45 lXoljSihCP\n",
      "46 RfMThadhmU\n",
      "47 yhjEyKHOGIUJX\n",
      "48 cEsRabiplk\n",
      "49 tegEsNyCGzT\n",
      "50 OByySqMtMpWdJ\n",
      "51 MQBOhXyNBYZ\n",
      "52 VOqInUkiRRWxo\n",
      "53 VpeOhFknUA\n",
      "54 CHPZdnSiTcEUz\n",
      "55 LrczAapZuym\n",
      "56 VptFwbbylNSrIa\n",
      "57 rEdxGYFGPo\n",
      "58 YeURnfbfCHsO\n",
      "59 VCsuuMaDvYUkP\n",
      "60 EfyHpKneyOgkX\n",
      "61 VSSArbmwziIj\n",
      "62 qbfIAKrXsel\n",
      "63 LZpCGZeWdWX\n",
      "64 mNgHaqdlZhen\n",
      "65 nrbrzjrLLCB\n",
      "66 aIcuqeNKmajKi\n",
      "67 vocusMMjpM\n",
      "68 UVdXKDZSPsBNwk\n",
      "69 VqRSeQtGoDoVb\n",
      "70 XFPWPnKURhhm\n",
      "71 jVsCmuNPFetA\n",
      "72 RDQBcEmZlTfx\n",
      "73 DNvamqdNovX\n",
      "74 gcviZlLORyzeL\n",
      "75 fUHMjvyDiTPdJ\n",
      "76 yFWByBtNPJogD\n",
      "77 fpbgNwtsIH\n",
      "78 CCWxVbwaHLls\n",
      "79 OugdQGxutBKAi\n",
      "80 HBwKvsTxUWqhbfc\n",
      "81 KqtuXAozUrgbZZ\n",
      "82 JWnaMqUfQMbAH\n",
      "83 oieqPnAFPgu\n",
      "84 VARFcULhEtl\n",
      "85 aCZOzNtHNpQVJKr\n",
      "86 dyeZVXSIySxide\n",
      "87 UCWDNaBXhZZk\n",
      "88 YyrmofarCjCs\n",
      "89 eATAWgVVavhNe\n",
      "90 xCXTbyCOSigB\n",
      "91 HSkQVmiVnbT\n",
      "92 HLUAstOuqB\n",
      "93 TTuunjYdbNOIAP\n",
      "94 ljdlXQFPHz\n",
      "95 RisGxHznvIe\n",
      "96 PPDJmYfILMkX\n",
      "97 KiPAUajdtnwr\n",
      "98 IPsICMjtClOV\n",
      "99 WjyMYdMfXD\n",
      "100 lTahNdAIyfdWI\n"
     ]
    }
   ],
   "source": [
    "import string\n",
    "import random\n",
    "\n",
    "num=1\n",
    "for x in range(0,100):\n",
    "    length = random.randint(10,15)\n",
    "    ran = \"\".join(random.choices(string.ascii_letters, k=length))\n",
    "    print(num,ran)\n",
    "    num+=1"
   ]
  },
  {
   "cell_type": "markdown",
   "id": "2cc1b392-7781-4d77-955b-1b88232be788",
   "metadata": {},
   "source": [
    "**<hr>**"
   ]
  },
  {
   "cell_type": "markdown",
   "id": "f4caf533-8b72-444a-a16a-288c8eb6e49c",
   "metadata": {},
   "source": [
    "**Q10. Write to the file all prime numbers between 600 and 800.** <br>\n",
    "Same as ***Question 4 part 2***"
   ]
  },
  {
   "cell_type": "markdown",
   "id": "08395962-930e-47b0-8a2e-b1b80de5d12d",
   "metadata": {},
   "source": [
    "**<hr>**"
   ]
  },
  {
   "cell_type": "markdown",
   "id": "f70c20a8-a615-47b2-9150-af457ab817a0",
   "metadata": {},
   "source": [
    "**Q11. WAP to calculate the time taken by a program.**"
   ]
  },
  {
   "cell_type": "code",
   "execution_count": 32,
   "id": "ad132fa4-3a9e-4bee-93eb-3b0d740baac3",
   "metadata": {},
   "outputs": [
    {
     "name": "stdout",
     "output_type": "stream",
     "text": [
      "Time taken by the program in Ques 9 is  1.0084919929504395\n"
     ]
    }
   ],
   "source": [
    "import time\n",
    "import string\n",
    "import random\n",
    "\n",
    "start = time.time()\n",
    "\n",
    "\n",
    "num=1\n",
    "for x in range(0,100):\n",
    "    length = random.randint(10,15)\n",
    "    ran = \"\".join(random.choices(string.ascii_letters, k=length))\n",
    "    num+=1\n",
    "    \n",
    "time.sleep(1)\n",
    "end = time.time()\n",
    "\n",
    "print(\"Time taken by the program in Ques 9 is \", end-start)"
   ]
  },
  {
   "cell_type": "markdown",
   "id": "ced136ae-89d5-46da-9d40-1740a5d7a0c1",
   "metadata": {},
   "source": [
    "<h>"
   ]
  },
  {
   "cell_type": "markdown",
   "id": "b6856e63-42a3-4409-90e2-82e2e415b206",
   "metadata": {},
   "source": [
    "**Q12. WAP to sort following number of elements in a list, calculate time taken and plot the graph.**\n",
    "\n",
    "| Number of Elements in List     | Time Taken |\n",
    "|      --------------------      | ---------- |\n",
    "| 50k                            | T1         |\n",
    "| 100k                           | T2         |\n",
    "| 150k                           | T3         |\n",
    "| 200k                           | T4         |\n",
    "| 250k                           | T5         |\n",
    "\n"
   ]
  },
  {
   "cell_type": "code",
   "execution_count": 33,
   "id": "b918d527-f74c-4259-b703-92c10987ff2f",
   "metadata": {},
   "outputs": [
    {
     "data": {
      "image/png": "[encoded data removed]",
      "text/plain": [
       "<Figure size 640x480 with 1 Axes>"
      ]
     },
     "metadata": {},
     "output_type": "display_data"
    }
   ],
   "source": [
    "import matplotlib.pyplot as plt\n",
    "import random\n",
    "import time\n",
    "\n",
    "def time_taken(n):\n",
    "    start = time.time()\n",
    "    lst=[]\n",
    "    for x in range(0,n):\n",
    "        n1 = random.randint(0,n)\n",
    "        lst.append(n1)\n",
    "    lst.sort()\n",
    "    time.sleep(1)\n",
    "    end = time.time()\n",
    "    elapsed = end-start\n",
    "    return elapsed\n",
    "    \n",
    "    \n",
    "\n",
    "\n",
    "num = [50000,100000,150000,200000,250000]\n",
    "times = []\n",
    "\n",
    "for x in num:\n",
    "    times.append(round(time_taken(x),4))\n",
    "\n",
    "plt.title(\"Sorting List\")\n",
    "plt.xlabel(\"Number Of Elements\")\n",
    "plt.ylabel(\"Time Taken\")\n",
    "plt.plot(num,times)\n",
    "plt.show()"
   ]
  },
  {
   "cell_type": "markdown",
   "id": "139441b1-0428-4f77-941a-187cfa69db7f",
   "metadata": {},
   "source": [
    "<hr>"
   ]
  },
  {
   "cell_type": "markdown",
   "id": "da9fff5e-8ae7-4ae5-8499-cf3d9815eb07",
   "metadata": {},
   "source": [
    "**Q13. WAP to create a dictionary of student marks in five subjects and you have to find the student\n",
    "having maximum and minimum average marks.**"
   ]
  },
  {
   "cell_type": "code",
   "execution_count": 34,
   "id": "e5fa3f9b-7b45-44e5-a499-b3d478067b6a",
   "metadata": {},
   "outputs": [
    {
     "name": "stdout",
     "output_type": "stream",
     "text": [
      "Student score 95 which is the maximimum marks in Maths subject\n",
      "Student score 76 which is the minimimum marks in Chemistry subject\n"
     ]
    }
   ],
   "source": [
    "marks = {\n",
    "    \"Maths\":95,\n",
    "    \"Physics\":84,\n",
    "    \"Chemistry\":76,\n",
    "    \"Phy_Edu\":90,\n",
    "    \"English\":82\n",
    "}\n",
    "\n",
    "def get_key(val):\n",
    "    for i,j in marks.items():\n",
    "        if val==j:\n",
    "            return i\n",
    "        \n",
    "maximum_marks = max(marks.values())\n",
    "minimum_marks = min(marks.values())\n",
    "\n",
    "print(\"Student score\",maximum_marks,\"which is the maximimum marks in\",get_key(maximum_marks),\"subject\")\n",
    "print(\"Student score\",minimum_marks,\"which is the minimimum marks in\",get_key(minimum_marks),\"subject\")\n",
    "\n",
    "    \n"
   ]
  },
  {
   "cell_type": "markdown",
   "id": "37ce671d-d981-46d9-8bdf-d6c42dc2cbec",
   "metadata": {},
   "source": [
    "<hr>"
   ]
  },
  {
   "cell_type": "markdown",
   "id": "0cf4f76b-86ab-4759-baf0-c342cda3eebb",
   "metadata": {},
   "source": [
    "**Compare the performance (time taken &amp; rate of processing) of C, C++, Java, Perl &amp; Python program for**\n",
    ">1. Copy 1GB, 2GB, 3GB, 4GB, 5GB txt files.\n",
    "2. Convert 1GB, 2GB, 3G, 4GB, 5GB txt files to upper case.\n",
    "\n",
    "After compairing the data the result is analysed and store in excel file."
   ]
  },
  {
   "cell_type": "code",
   "execution_count": 35,
   "id": "56a4cb4c-9209-45be-a14c-14ac50a60d9a",
   "metadata": {},
   "outputs": [],
   "source": [
    "import pandas as pd\n",
    "import numpy as np\n",
    "import matplotlib.pyplot as plt"
   ]
  },
  {
   "cell_type": "code",
   "execution_count": 36,
   "id": "f28b1025-867a-4c58-beb2-525b0036c257",
   "metadata": {},
   "outputs": [],
   "source": [
    "df = pd.read_excel('compare.xlsx', header=None, names=['Size','C','C++','Java','Perl','Python'])"
   ]
  },
  {
   "cell_type": "code",
   "execution_count": 37,
   "id": "fdabb247-719d-4c3f-8448-67a67aa1d18f",
   "metadata": {},
   "outputs": [
    {
     "data": {
      "text/html": [
       "<div>\n",
       "<style scoped>\n",
       "    .dataframe tbody tr th:only-of-type {\n",
       "        vertical-align: middle;\n",
       "    }\n",
       "\n",
       "    .dataframe tbody tr th {\n",
       "        vertical-align: top;\n",
       "    }\n",
       "\n",
       "    .dataframe thead th {\n",
       "        text-align: right;\n",
       "    }\n",
       "</style>\n",
       "<table border=\"1\" class=\"dataframe\">\n",
       "  <thead>\n",
       "    <tr style=\"text-align: right;\">\n",
       "      <th></th>\n",
       "      <th>Size</th>\n",
       "      <th>C</th>\n",
       "      <th>C++</th>\n",
       "      <th>Java</th>\n",
       "      <th>Perl</th>\n",
       "      <th>Python</th>\n",
       "    </tr>\n",
       "  </thead>\n",
       "  <tbody>\n",
       "    <tr>\n",
       "      <th>0</th>\n",
       "      <td>File Size</td>\n",
       "      <td>Time Taken (sec)</td>\n",
       "      <td>NaN</td>\n",
       "      <td>NaN</td>\n",
       "      <td>NaN</td>\n",
       "      <td>NaN</td>\n",
       "    </tr>\n",
       "    <tr>\n",
       "      <th>1</th>\n",
       "      <td>NaN</td>\n",
       "      <td>C</td>\n",
       "      <td>C++</td>\n",
       "      <td>Java</td>\n",
       "      <td>Perl</td>\n",
       "      <td>Python</td>\n",
       "    </tr>\n",
       "    <tr>\n",
       "      <th>2</th>\n",
       "      <td>1GB</td>\n",
       "      <td>8</td>\n",
       "      <td>11</td>\n",
       "      <td>14</td>\n",
       "      <td>15</td>\n",
       "      <td>16</td>\n",
       "    </tr>\n",
       "    <tr>\n",
       "      <th>3</th>\n",
       "      <td>2GB</td>\n",
       "      <td>10</td>\n",
       "      <td>12</td>\n",
       "      <td>15</td>\n",
       "      <td>17</td>\n",
       "      <td>18</td>\n",
       "    </tr>\n",
       "    <tr>\n",
       "      <th>4</th>\n",
       "      <td>3GB</td>\n",
       "      <td>11</td>\n",
       "      <td>13</td>\n",
       "      <td>16</td>\n",
       "      <td>18</td>\n",
       "      <td>19</td>\n",
       "    </tr>\n",
       "    <tr>\n",
       "      <th>5</th>\n",
       "      <td>4GB</td>\n",
       "      <td>12</td>\n",
       "      <td>15</td>\n",
       "      <td>18</td>\n",
       "      <td>20</td>\n",
       "      <td>21</td>\n",
       "    </tr>\n",
       "    <tr>\n",
       "      <th>6</th>\n",
       "      <td>5GB</td>\n",
       "      <td>13</td>\n",
       "      <td>18</td>\n",
       "      <td>20</td>\n",
       "      <td>21</td>\n",
       "      <td>22</td>\n",
       "    </tr>\n",
       "  </tbody>\n",
       "</table>\n",
       "</div>"
      ],
      "text/plain": [
       "        Size                 C  C++  Java  Perl  Python\n",
       "0  File Size  Time Taken (sec)  NaN   NaN   NaN     NaN\n",
       "1        NaN                 C  C++  Java  Perl  Python\n",
       "2        1GB                 8   11    14    15      16\n",
       "3        2GB                10   12    15    17      18\n",
       "4        3GB                11   13    16    18      19\n",
       "5        4GB                12   15    18    20      21\n",
       "6        5GB                13   18    20    21      22"
      ]
     },
     "execution_count": 37,
     "metadata": {},
     "output_type": "execute_result"
    }
   ],
   "source": [
    "df.head(7)"
   ]
  },
  {
   "cell_type": "code",
   "execution_count": 38,
   "id": "85756e58-e704-447c-a669-5ce49b7bf796",
   "metadata": {},
   "outputs": [],
   "source": [
    "df.drop(1)\n",
    "df = df.dropna()"
   ]
  },
  {
   "cell_type": "code",
   "execution_count": 39,
   "id": "b698aa7e-3828-4fec-8e0a-01b02447d90c",
   "metadata": {},
   "outputs": [
    {
     "data": {
      "text/html": [
       "<div>\n",
       "<style scoped>\n",
       "    .dataframe tbody tr th:only-of-type {\n",
       "        vertical-align: middle;\n",
       "    }\n",
       "\n",
       "    .dataframe tbody tr th {\n",
       "        vertical-align: top;\n",
       "    }\n",
       "\n",
       "    .dataframe thead th {\n",
       "        text-align: right;\n",
       "    }\n",
       "</style>\n",
       "<table border=\"1\" class=\"dataframe\">\n",
       "  <thead>\n",
       "    <tr style=\"text-align: right;\">\n",
       "      <th></th>\n",
       "      <th>Size</th>\n",
       "      <th>C</th>\n",
       "      <th>C++</th>\n",
       "      <th>Java</th>\n",
       "      <th>Perl</th>\n",
       "      <th>Python</th>\n",
       "    </tr>\n",
       "  </thead>\n",
       "  <tbody>\n",
       "    <tr>\n",
       "      <th>2</th>\n",
       "      <td>1GB</td>\n",
       "      <td>8</td>\n",
       "      <td>11</td>\n",
       "      <td>14</td>\n",
       "      <td>15</td>\n",
       "      <td>16</td>\n",
       "    </tr>\n",
       "    <tr>\n",
       "      <th>3</th>\n",
       "      <td>2GB</td>\n",
       "      <td>10</td>\n",
       "      <td>12</td>\n",
       "      <td>15</td>\n",
       "      <td>17</td>\n",
       "      <td>18</td>\n",
       "    </tr>\n",
       "    <tr>\n",
       "      <th>4</th>\n",
       "      <td>3GB</td>\n",
       "      <td>11</td>\n",
       "      <td>13</td>\n",
       "      <td>16</td>\n",
       "      <td>18</td>\n",
       "      <td>19</td>\n",
       "    </tr>\n",
       "    <tr>\n",
       "      <th>5</th>\n",
       "      <td>4GB</td>\n",
       "      <td>12</td>\n",
       "      <td>15</td>\n",
       "      <td>18</td>\n",
       "      <td>20</td>\n",
       "      <td>21</td>\n",
       "    </tr>\n",
       "    <tr>\n",
       "      <th>6</th>\n",
       "      <td>5GB</td>\n",
       "      <td>13</td>\n",
       "      <td>18</td>\n",
       "      <td>20</td>\n",
       "      <td>21</td>\n",
       "      <td>22</td>\n",
       "    </tr>\n",
       "  </tbody>\n",
       "</table>\n",
       "</div>"
      ],
      "text/plain": [
       "  Size   C C++ Java Perl Python\n",
       "2  1GB   8  11   14   15     16\n",
       "3  2GB  10  12   15   17     18\n",
       "4  3GB  11  13   16   18     19\n",
       "5  4GB  12  15   18   20     21\n",
       "6  5GB  13  18   20   21     22"
      ]
     },
     "execution_count": 39,
     "metadata": {},
     "output_type": "execute_result"
    }
   ],
   "source": [
    "df.head(6)"
   ]
  },
  {
   "cell_type": "code",
   "execution_count": 40,
   "id": "e29707f1-8fa4-4af9-9d47-2bc2a506096d",
   "metadata": {},
   "outputs": [
    {
     "data": {
      "image/png": "[encoded data removed]",
      "text/plain": [
       "<Figure size 640x480 with 1 Axes>"
      ]
     },
     "metadata": {},
     "output_type": "display_data"
    }
   ],
   "source": [
    "df.plot(x=\"Size\", y=[\"C\",\"C++\",\"Java\",\"Perl\",\"Python\"])\n",
    "plt.legend(ncol=3, loc='lower right')\n",
    "plt.title(\"Performance Comparision\")\n",
    "plt.ylabel(\"Time Taken (in sec)\")\n",
    "plt.xlabel(\"Size in (GB)\")\n",
    "plt.show()"
   ]
  }
 ],
 "metadata": {
  "kernelspec": {
   "display_name": "Python 3",
   "language": "python",
   "name": "python3"
  },
  "language_info": {
   "codemirror_mode": {
    "name": "ipython",
    "version": 3
   },
   "file_extension": ".py",
   "mimetype": "text/x-python",
   "name": "python",
   "nbconvert_exporter": "python",
   "pygments_lexer": "ipython3",
   "version": "3.9.1"
  }
 },
 "nbformat": 4,
 "nbformat_minor": 5
}
